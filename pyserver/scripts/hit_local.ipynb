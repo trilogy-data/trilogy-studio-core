{
 "cells": [
  {
   "cell_type": "code",
   "execution_count": null,
   "metadata": {},
   "outputs": [],
   "source": [
    "\n",
    "from requests import post\n",
    "from pydantic import BaseModel\n",
    "from trilogy import Dialects\n"
   ]
  },
  {
   "cell_type": "code",
   "execution_count": null,
   "metadata": {},
   "outputs": [],
   "source": [
    "class ModelSourceInSchema(BaseModel):\n",
    "    alias: str\n",
    "    contents: str\n",
    "\n",
    "\n",
    "class ModelInSchema(BaseModel):\n",
    "    name: str\n",
    "    sources: list[ModelSourceInSchema]\n",
    "    \n",
    "\n",
    "class QueryInSchema(BaseModel):\n",
    "    query: str\n",
    "    dialect = Dialects\n",
    "    full_model: ModelInSchema | None = None"
   ]
  },
  {
   "cell_type": "code",
   "execution_count": 21,
   "metadata": {},
   "outputs": [
    {
     "name": "stdout",
     "output_type": "stream",
     "text": [
      "{\"query\":\"\\nselect 1-> test;\",\"full_model\":null}\n",
      "0:00:02.055650\n",
      "{'detail': [{'type': 'missing', 'loc': ['body', 'dialect'], 'msg': 'Field required', 'input': {'query': '\\nselect 1-> test;', 'full_model': None}}]}\n"
     ]
    },
    {
     "ename": "KeyError",
     "evalue": "'generated_sql'",
     "output_type": "error",
     "traceback": [
      "\u001b[1;31m---------------------------------------------------------------------------\u001b[0m",
      "\u001b[1;31mKeyError\u001b[0m                                  Traceback (most recent call last)",
      "Cell \u001b[1;32mIn[21], line 13\u001b[0m\n\u001b[0;32m     11\u001b[0m \u001b[38;5;28mprint\u001b[39m(datetime\u001b[38;5;241m.\u001b[39mdatetime\u001b[38;5;241m.\u001b[39mnow() \u001b[38;5;241m-\u001b[39m start)\n\u001b[0;32m     12\u001b[0m \u001b[38;5;28mprint\u001b[39m(x)\n\u001b[1;32m---> 13\u001b[0m \u001b[38;5;28mprint\u001b[39m(\u001b[43mx\u001b[49m\u001b[43m[\u001b[49m\u001b[38;5;124;43m'\u001b[39;49m\u001b[38;5;124;43mgenerated_sql\u001b[39;49m\u001b[38;5;124;43m'\u001b[39;49m\u001b[43m]\u001b[49m)\n",
      "\u001b[1;31mKeyError\u001b[0m: 'generated_sql'"
     ]
    }
   ],
   "source": [
    "import datetime\n",
    "\n",
    "request = QueryInSchema(\n",
    "    query = '''\n",
    "select 1-> test;''',\n",
    "    dialect='bigquery'\n",
    ")\n",
    "start = datetime.datetime.now()\n",
    "print(request.model_dump_json())\n",
    "x = post('http://localhost:5678/generate_query', data=request.model_dump_json()).json()\n",
    "print(datetime.datetime.now() - start)\n",
    "print(x)\n",
    "print(x['generated_sql'])\n"
   ]
  }
 ],
 "metadata": {
  "kernelspec": {
   "display_name": ".venv",
   "language": "python",
   "name": "python3"
  },
  "language_info": {
   "codemirror_mode": {
    "name": "ipython",
    "version": 3
   },
   "file_extension": ".py",
   "mimetype": "text/x-python",
   "name": "python",
   "nbconvert_exporter": "python",
   "pygments_lexer": "ipython3",
   "version": "3.12.1"
  }
 },
 "nbformat": 4,
 "nbformat_minor": 2
}
