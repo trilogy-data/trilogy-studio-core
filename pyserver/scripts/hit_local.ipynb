{
 "cells": [
  {
   "cell_type": "code",
   "execution_count": 22,
   "metadata": {},
   "outputs": [],
   "source": [
    "\n",
    "from requests import post\n",
    "from pydantic import BaseModel\n",
    "from trilogy import Dialects\n"
   ]
  },
  {
   "cell_type": "code",
   "execution_count": 24,
   "metadata": {},
   "outputs": [],
   "source": [
    "class ModelSourceInSchema(BaseModel):\n",
    "    alias: str\n",
    "    contents: str\n",
    "\n",
    "\n",
    "class ModelInSchema(BaseModel):\n",
    "    name: str\n",
    "    sources: list[ModelSourceInSchema]\n",
    "    \n",
    "\n",
    "class QueryInSchema(BaseModel):\n",
    "    query: str\n",
    "    dialect:Dialects\n",
    "    full_model: ModelInSchema | None = None"
   ]
  },
  {
   "cell_type": "code",
   "execution_count": 33,
   "metadata": {},
   "outputs": [
    {
     "name": "stdout",
     "output_type": "stream",
     "text": [
      "{\"query\":\"\\nselect 1-> test;\",\"dialect\":\"bigquery\",\"full_model\":null}\n",
      "0:00:02.167828\n",
      "{'generated_sql': '\\nSELECT\\n    1 as `test`\\n\\n\\n', 'columns': [{'name': 'local.test', 'datatype': 'int', 'purpose': 'const'}]}\n",
      "\n",
      "SELECT\n",
      "    1 as `test`\n",
      "\n",
      "\n",
      "\n"
     ]
    }
   ],
   "source": [
    "import datetime\n",
    "\n",
    "request = QueryInSchema(\n",
    "    query = '''\n",
    "select 1-> test;''',\n",
    "    dialect='bigquery'\n",
    ")\n",
    "start = datetime.datetime.now()\n",
    "print(request.model_dump_json())\n",
    "x = post('http://localhost:5678/generate_query', data=request.model_dump_json()).json()\n",
    "print(datetime.datetime.now() - start)\n",
    "print(x)\n",
    "print(x['generated_sql'])\n"
   ]
  }
 ],
 "metadata": {
  "kernelspec": {
   "display_name": ".venv",
   "language": "python",
   "name": "python3"
  },
  "language_info": {
   "codemirror_mode": {
    "name": "ipython",
    "version": 3
   },
   "file_extension": ".py",
   "mimetype": "text/x-python",
   "name": "python",
   "nbconvert_exporter": "python",
   "pygments_lexer": "ipython3",
   "version": "3.12.1"
  }
 },
 "nbformat": 4,
 "nbformat_minor": 2
}
